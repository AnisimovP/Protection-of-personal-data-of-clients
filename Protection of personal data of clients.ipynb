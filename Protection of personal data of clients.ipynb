{
 "cells": [
  {
   "cell_type": "markdown",
   "metadata": {
    "toc": true
   },
   "source": [
    "<h1>Содержание<span class=\"tocSkip\"></span></h1>\n",
    "<div class=\"toc\"><ul class=\"toc-item\"><li><span><a href=\"#Загрузка-данных\" data-toc-modified-id=\"Загрузка-данных-1\"><span class=\"toc-item-num\">1&nbsp;&nbsp;</span>Загрузка данных</a></span></li><li><span><a href=\"#Умножение-матриц\" data-toc-modified-id=\"Умножение-матриц-2\"><span class=\"toc-item-num\">2&nbsp;&nbsp;</span>Умножение матриц</a></span></li><li><span><a href=\"#Алгоритм-преобразования\" data-toc-modified-id=\"Алгоритм-преобразования-3\"><span class=\"toc-item-num\">3&nbsp;&nbsp;</span>Алгоритм преобразования</a></span></li><li><span><a href=\"#Проверка-алгоритма\" data-toc-modified-id=\"Проверка-алгоритма-4\"><span class=\"toc-item-num\">4&nbsp;&nbsp;</span>Проверка алгоритма</a></span></li><li><span><a href=\"#Чек-лист-проверки\" data-toc-modified-id=\"Чек-лист-проверки-5\"><span class=\"toc-item-num\">5&nbsp;&nbsp;</span>Чек-лист проверки</a></span></li></ul></div>"
   ]
  },
  {
   "cell_type": "markdown",
   "metadata": {},
   "source": [
    "# Защита персональных данных клиентов"
   ]
  },
  {
   "cell_type": "markdown",
   "metadata": {},
   "source": [
    "Вам нужно защитить данные клиентов страховой компании «Хоть потоп». Разработайте такой метод преобразования данных, чтобы по ним было сложно восстановить персональную информацию. Обоснуйте корректность его работы.\n",
    "\n",
    "Нужно защитить данные, чтобы при преобразовании качество моделей машинного обучения не ухудшилось. Подбирать наилучшую модель не требуется."
   ]
  },
  {
   "cell_type": "markdown",
   "metadata": {},
   "source": [
    "## Загрузка данных"
   ]
  },
  {
   "cell_type": "code",
   "execution_count": 1,
   "metadata": {},
   "outputs": [],
   "source": [
    "import pandas as pd\n",
    "import numpy as np\n",
    "from sklearn.linear_model import LinearRegression\n",
    "from sklearn.model_selection import train_test_split\n",
    "from sklearn.metrics import r2_score\n",
    "\n",
    "import warnings\n",
    "warnings.filterwarnings('ignore')"
   ]
  },
  {
   "cell_type": "code",
   "execution_count": 2,
   "metadata": {},
   "outputs": [],
   "source": [
    "data = pd.read_csv('/datasets/insurance.csv')"
   ]
  },
  {
   "cell_type": "code",
   "execution_count": 3,
   "metadata": {},
   "outputs": [
    {
     "data": {
      "text/html": [
       "<div>\n",
       "<style scoped>\n",
       "    .dataframe tbody tr th:only-of-type {\n",
       "        vertical-align: middle;\n",
       "    }\n",
       "\n",
       "    .dataframe tbody tr th {\n",
       "        vertical-align: top;\n",
       "    }\n",
       "\n",
       "    .dataframe thead th {\n",
       "        text-align: right;\n",
       "    }\n",
       "</style>\n",
       "<table border=\"1\" class=\"dataframe\">\n",
       "  <thead>\n",
       "    <tr style=\"text-align: right;\">\n",
       "      <th></th>\n",
       "      <th>Пол</th>\n",
       "      <th>Возраст</th>\n",
       "      <th>Зарплата</th>\n",
       "      <th>Члены семьи</th>\n",
       "      <th>Страховые выплаты</th>\n",
       "    </tr>\n",
       "  </thead>\n",
       "  <tbody>\n",
       "    <tr>\n",
       "      <th>0</th>\n",
       "      <td>1</td>\n",
       "      <td>41.0</td>\n",
       "      <td>49600.0</td>\n",
       "      <td>1</td>\n",
       "      <td>0</td>\n",
       "    </tr>\n",
       "    <tr>\n",
       "      <th>1</th>\n",
       "      <td>0</td>\n",
       "      <td>46.0</td>\n",
       "      <td>38000.0</td>\n",
       "      <td>1</td>\n",
       "      <td>1</td>\n",
       "    </tr>\n",
       "    <tr>\n",
       "      <th>2</th>\n",
       "      <td>0</td>\n",
       "      <td>29.0</td>\n",
       "      <td>21000.0</td>\n",
       "      <td>0</td>\n",
       "      <td>0</td>\n",
       "    </tr>\n",
       "    <tr>\n",
       "      <th>3</th>\n",
       "      <td>0</td>\n",
       "      <td>21.0</td>\n",
       "      <td>41700.0</td>\n",
       "      <td>2</td>\n",
       "      <td>0</td>\n",
       "    </tr>\n",
       "    <tr>\n",
       "      <th>4</th>\n",
       "      <td>1</td>\n",
       "      <td>28.0</td>\n",
       "      <td>26100.0</td>\n",
       "      <td>0</td>\n",
       "      <td>0</td>\n",
       "    </tr>\n",
       "    <tr>\n",
       "      <th>5</th>\n",
       "      <td>1</td>\n",
       "      <td>43.0</td>\n",
       "      <td>41000.0</td>\n",
       "      <td>2</td>\n",
       "      <td>1</td>\n",
       "    </tr>\n",
       "    <tr>\n",
       "      <th>6</th>\n",
       "      <td>1</td>\n",
       "      <td>39.0</td>\n",
       "      <td>39700.0</td>\n",
       "      <td>2</td>\n",
       "      <td>0</td>\n",
       "    </tr>\n",
       "    <tr>\n",
       "      <th>7</th>\n",
       "      <td>1</td>\n",
       "      <td>25.0</td>\n",
       "      <td>38600.0</td>\n",
       "      <td>4</td>\n",
       "      <td>0</td>\n",
       "    </tr>\n",
       "    <tr>\n",
       "      <th>8</th>\n",
       "      <td>1</td>\n",
       "      <td>36.0</td>\n",
       "      <td>49700.0</td>\n",
       "      <td>1</td>\n",
       "      <td>0</td>\n",
       "    </tr>\n",
       "    <tr>\n",
       "      <th>9</th>\n",
       "      <td>1</td>\n",
       "      <td>32.0</td>\n",
       "      <td>51700.0</td>\n",
       "      <td>1</td>\n",
       "      <td>0</td>\n",
       "    </tr>\n",
       "  </tbody>\n",
       "</table>\n",
       "</div>"
      ],
      "text/plain": [
       "   Пол  Возраст  Зарплата  Члены семьи  Страховые выплаты\n",
       "0    1     41.0   49600.0            1                  0\n",
       "1    0     46.0   38000.0            1                  1\n",
       "2    0     29.0   21000.0            0                  0\n",
       "3    0     21.0   41700.0            2                  0\n",
       "4    1     28.0   26100.0            0                  0\n",
       "5    1     43.0   41000.0            2                  1\n",
       "6    1     39.0   39700.0            2                  0\n",
       "7    1     25.0   38600.0            4                  0\n",
       "8    1     36.0   49700.0            1                  0\n",
       "9    1     32.0   51700.0            1                  0"
      ]
     },
     "execution_count": 3,
     "metadata": {},
     "output_type": "execute_result"
    }
   ],
   "source": [
    "data.head(10)"
   ]
  },
  {
   "cell_type": "code",
   "execution_count": 4,
   "metadata": {},
   "outputs": [
    {
     "data": {
      "text/plain": [
       "(5000, 5)"
      ]
     },
     "execution_count": 4,
     "metadata": {},
     "output_type": "execute_result"
    }
   ],
   "source": [
    "data.shape"
   ]
  },
  {
   "cell_type": "code",
   "execution_count": 5,
   "metadata": {},
   "outputs": [
    {
     "name": "stdout",
     "output_type": "stream",
     "text": [
      "<class 'pandas.core.frame.DataFrame'>\n",
      "RangeIndex: 5000 entries, 0 to 4999\n",
      "Data columns (total 5 columns):\n",
      " #   Column             Non-Null Count  Dtype  \n",
      "---  ------             --------------  -----  \n",
      " 0   Пол                5000 non-null   int64  \n",
      " 1   Возраст            5000 non-null   float64\n",
      " 2   Зарплата           5000 non-null   float64\n",
      " 3   Члены семьи        5000 non-null   int64  \n",
      " 4   Страховые выплаты  5000 non-null   int64  \n",
      "dtypes: float64(2), int64(3)\n",
      "memory usage: 195.4 KB\n"
     ]
    }
   ],
   "source": [
    "data.info()"
   ]
  },
  {
   "cell_type": "code",
   "execution_count": 6,
   "metadata": {},
   "outputs": [
    {
     "data": {
      "text/plain": [
       "153"
      ]
     },
     "execution_count": 6,
     "metadata": {},
     "output_type": "execute_result"
    }
   ],
   "source": [
    "data.duplicated().sum()"
   ]
  },
  {
   "cell_type": "code",
   "execution_count": 7,
   "metadata": {},
   "outputs": [],
   "source": [
    "data['Возраст'] = data['Возраст'].astype(int)"
   ]
  },
  {
   "cell_type": "code",
   "execution_count": 8,
   "metadata": {
    "scrolled": true
   },
   "outputs": [
    {
     "name": "stdout",
     "output_type": "stream",
     "text": [
      "<class 'pandas.core.frame.DataFrame'>\n",
      "RangeIndex: 5000 entries, 0 to 4999\n",
      "Data columns (total 5 columns):\n",
      " #   Column             Non-Null Count  Dtype  \n",
      "---  ------             --------------  -----  \n",
      " 0   Пол                5000 non-null   int64  \n",
      " 1   Возраст            5000 non-null   int64  \n",
      " 2   Зарплата           5000 non-null   float64\n",
      " 3   Члены семьи        5000 non-null   int64  \n",
      " 4   Страховые выплаты  5000 non-null   int64  \n",
      "dtypes: float64(1), int64(4)\n",
      "memory usage: 195.4 KB\n"
     ]
    }
   ],
   "source": [
    "data.info()"
   ]
  },
  {
   "cell_type": "code",
   "execution_count": 9,
   "metadata": {},
   "outputs": [
    {
     "data": {
      "text/html": [
       "<div>\n",
       "<style scoped>\n",
       "    .dataframe tbody tr th:only-of-type {\n",
       "        vertical-align: middle;\n",
       "    }\n",
       "\n",
       "    .dataframe tbody tr th {\n",
       "        vertical-align: top;\n",
       "    }\n",
       "\n",
       "    .dataframe thead th {\n",
       "        text-align: right;\n",
       "    }\n",
       "</style>\n",
       "<table border=\"1\" class=\"dataframe\">\n",
       "  <thead>\n",
       "    <tr style=\"text-align: right;\">\n",
       "      <th></th>\n",
       "      <th>Пол</th>\n",
       "      <th>Возраст</th>\n",
       "      <th>Зарплата</th>\n",
       "      <th>Члены семьи</th>\n",
       "      <th>Страховые выплаты</th>\n",
       "    </tr>\n",
       "  </thead>\n",
       "  <tbody>\n",
       "    <tr>\n",
       "      <th>count</th>\n",
       "      <td>5000.000000</td>\n",
       "      <td>5000.000000</td>\n",
       "      <td>5000.000000</td>\n",
       "      <td>5000.000000</td>\n",
       "      <td>5000.000000</td>\n",
       "    </tr>\n",
       "    <tr>\n",
       "      <th>mean</th>\n",
       "      <td>0.499000</td>\n",
       "      <td>30.952800</td>\n",
       "      <td>39916.360000</td>\n",
       "      <td>1.194200</td>\n",
       "      <td>0.148000</td>\n",
       "    </tr>\n",
       "    <tr>\n",
       "      <th>std</th>\n",
       "      <td>0.500049</td>\n",
       "      <td>8.440807</td>\n",
       "      <td>9900.083569</td>\n",
       "      <td>1.091387</td>\n",
       "      <td>0.463183</td>\n",
       "    </tr>\n",
       "    <tr>\n",
       "      <th>min</th>\n",
       "      <td>0.000000</td>\n",
       "      <td>18.000000</td>\n",
       "      <td>5300.000000</td>\n",
       "      <td>0.000000</td>\n",
       "      <td>0.000000</td>\n",
       "    </tr>\n",
       "    <tr>\n",
       "      <th>25%</th>\n",
       "      <td>0.000000</td>\n",
       "      <td>24.000000</td>\n",
       "      <td>33300.000000</td>\n",
       "      <td>0.000000</td>\n",
       "      <td>0.000000</td>\n",
       "    </tr>\n",
       "    <tr>\n",
       "      <th>50%</th>\n",
       "      <td>0.000000</td>\n",
       "      <td>30.000000</td>\n",
       "      <td>40200.000000</td>\n",
       "      <td>1.000000</td>\n",
       "      <td>0.000000</td>\n",
       "    </tr>\n",
       "    <tr>\n",
       "      <th>75%</th>\n",
       "      <td>1.000000</td>\n",
       "      <td>37.000000</td>\n",
       "      <td>46600.000000</td>\n",
       "      <td>2.000000</td>\n",
       "      <td>0.000000</td>\n",
       "    </tr>\n",
       "    <tr>\n",
       "      <th>max</th>\n",
       "      <td>1.000000</td>\n",
       "      <td>65.000000</td>\n",
       "      <td>79000.000000</td>\n",
       "      <td>6.000000</td>\n",
       "      <td>5.000000</td>\n",
       "    </tr>\n",
       "  </tbody>\n",
       "</table>\n",
       "</div>"
      ],
      "text/plain": [
       "               Пол      Возраст      Зарплата  Члены семьи  Страховые выплаты\n",
       "count  5000.000000  5000.000000   5000.000000  5000.000000        5000.000000\n",
       "mean      0.499000    30.952800  39916.360000     1.194200           0.148000\n",
       "std       0.500049     8.440807   9900.083569     1.091387           0.463183\n",
       "min       0.000000    18.000000   5300.000000     0.000000           0.000000\n",
       "25%       0.000000    24.000000  33300.000000     0.000000           0.000000\n",
       "50%       0.000000    30.000000  40200.000000     1.000000           0.000000\n",
       "75%       1.000000    37.000000  46600.000000     2.000000           0.000000\n",
       "max       1.000000    65.000000  79000.000000     6.000000           5.000000"
      ]
     },
     "execution_count": 9,
     "metadata": {},
     "output_type": "execute_result"
    }
   ],
   "source": [
    "data.describe()"
   ]
  },
  {
   "cell_type": "code",
   "execution_count": 10,
   "metadata": {},
   "outputs": [],
   "source": [
    "data = data.drop_duplicates()"
   ]
  },
  {
   "cell_type": "code",
   "execution_count": 11,
   "metadata": {},
   "outputs": [
    {
     "data": {
      "text/plain": [
       "(4847, 5)"
      ]
     },
     "execution_count": 11,
     "metadata": {},
     "output_type": "execute_result"
    }
   ],
   "source": [
    "data.shape"
   ]
  },
  {
   "cell_type": "markdown",
   "metadata": {},
   "source": [
    "**Вывод**\n",
    "\n",
    "В данных были найдены дубликаты, которые впоследствии были удалены. А также изменем тип данных в столбце `Возраст` на целочисленный. Другиз аномалий не было найдено, можно приступать к следующему анализу "
   ]
  },
  {
   "cell_type": "code",
   "execution_count": 12,
   "metadata": {},
   "outputs": [],
   "source": [
    "y_target = data[\"Страховые выплаты\"]\n",
    "x_features = data.drop(\"Страховые выплаты\", axis=1)"
   ]
  },
  {
   "cell_type": "code",
   "execution_count": 13,
   "metadata": {},
   "outputs": [
    {
     "data": {
      "text/plain": [
       "((4847, 4), (4847,))"
      ]
     },
     "execution_count": 13,
     "metadata": {},
     "output_type": "execute_result"
    }
   ],
   "source": [
    "x_features.shape, y_target.shape"
   ]
  },
  {
   "cell_type": "markdown",
   "metadata": {},
   "source": [
    "## Умножение матриц"
   ]
  },
  {
   "cell_type": "markdown",
   "metadata": {},
   "source": [
    "В этом задании вы можете записывать формулы в *Jupyter Notebook.*\n",
    "\n",
    "Чтобы записать формулу внутри текста, окружите её символами доллара \\\\$; если снаружи —  двойными символами \\\\$\\\\$. Эти формулы записываются на языке вёрстки *LaTeX.* \n",
    "\n",
    "Для примера мы записали формулы линейной регрессии. Можете их скопировать и отредактировать, чтобы решить задачу.\n",
    "\n",
    "Работать в *LaTeX* необязательно."
   ]
  },
  {
   "cell_type": "markdown",
   "metadata": {},
   "source": [
    "Обозначения:\n",
    "\n",
    "- $X$ — матрица признаков (нулевой столбец состоит из единиц)\n",
    "\n",
    "- $y$ — вектор целевого признака\n",
    "\n",
    "- $P$ — матрица, на которую умножаются признаки\n",
    "\n",
    "- $w$ — вектор весов линейной регрессии (нулевой элемент равен сдвигу)"
   ]
  },
  {
   "cell_type": "markdown",
   "metadata": {},
   "source": [
    "Предсказания:\n",
    "\n",
    "$$\n",
    "a = Xw\n",
    "$$\n",
    "\n",
    "Задача обучения:\n",
    "\n",
    "$$\n",
    "w = \\arg\\min_w MSE(Xw, y)\n",
    "$$\n",
    "\n",
    "Формула обучения:\n",
    "\n",
    "$$\n",
    "w = (X^T X)^{-1} X^T y\n",
    "$$"
   ]
  },
  {
   "cell_type": "markdown",
   "metadata": {},
   "source": [
    "**Ответ:** Не изменится"
   ]
  },
  {
   "cell_type": "markdown",
   "metadata": {},
   "source": [
    "**Обоснование:** \n",
    "$$\n",
    "X_1 = XP\n",
    "$$\n",
    "\n",
    "$$\n",
    "a_1 = w_1X_1\n",
    "$$\n",
    "\n",
    "$$\n",
    "w_1 = (X_1^T X_1)^{-1} X_1^Ty\n",
    "$$\n"
   ]
  },
  {
   "cell_type": "markdown",
   "metadata": {},
   "source": [
    "**Преобразование $w$:**"
   ]
  },
  {
   "cell_type": "markdown",
   "metadata": {},
   "source": [
    "\n",
    "$$\n",
    "w=X^{-T}X^{-1}X^Ty\n",
    "$$\n",
    "\n",
    "$$\n",
    "w=X^{-1}y\n",
    "$$\n"
   ]
  },
  {
   "cell_type": "markdown",
   "metadata": {},
   "source": [
    "**Преобразование $w_1$:**"
   ]
  },
  {
   "cell_type": "markdown",
   "metadata": {},
   "source": [
    "$$\n",
    "w_1 = ((XP)^TXP)^{-1}(XP)^Ty\n",
    "$$\n",
    "\n",
    "$$\n",
    "w_1 = (P^TX^TXP)^{-1}P^TX^Ty\n",
    "$$\n",
    "\n",
    "Так как $P$ по условию обратимая, то произведение $(P^T)^{-1}(P)^T$ равно $E$ (единичной матрице)\n",
    "\n",
    "$$\n",
    "w_1 = P^{-1}(X^TX)^{-1}EX^Ty\n",
    "$$\n",
    "\n",
    "$$\n",
    "w_1 = P^{-1}(X^TX)^{-1}X^Ty\n",
    "$$\n",
    "\n",
    "$$\n",
    "w_1 = P^{-1}w\n",
    "$$"
   ]
  },
  {
   "cell_type": "markdown",
   "metadata": {},
   "source": [
    "**Преобразование $a_1$:**"
   ]
  },
  {
   "cell_type": "markdown",
   "metadata": {},
   "source": [
    "$$\n",
    "a_1 = X_1w_1\n",
    "$$\n",
    "\n",
    "$$\n",
    "a_1 = XPP^{-1}w\n",
    "$$\n",
    "\n",
    "$$\n",
    "a_1 = XEw\n",
    "$$\n",
    "\n",
    "$$\n",
    "a_1=Xw\n",
    "$$\n",
    "\n",
    "$$\n",
    "a_1 = a\n",
    "$$"
   ]
  },
  {
   "cell_type": "markdown",
   "metadata": {},
   "source": [
    "## Алгоритм преобразования"
   ]
  },
  {
   "cell_type": "markdown",
   "metadata": {},
   "source": [
    "Создадим случайную матрицу, которая имеет обратную себе матрицу. Умножив изначальную матрицу признаков на созданную случайную матрицу, мы зашифруем исходную матрицу признаков не испортив качество модели машинного обучения. Обратная матрица нужна будет для того, чтобы раскодировать данные обратно."
   ]
  },
  {
   "cell_type": "code",
   "execution_count": 14,
   "metadata": {
    "scrolled": false
   },
   "outputs": [
    {
     "data": {
      "text/plain": [
       "array([[-0.81015911,  4.82277891, -5.78290386,  3.16545078],\n",
       "       [ 1.88695171, -2.94671811,  4.19624468, -3.63779539],\n",
       "       [-0.85643394, -1.35289479,  2.59476754, -0.29581654],\n",
       "       [-0.87662391,  1.39561852, -3.05429351,  4.16678005]])"
      ]
     },
     "execution_count": 14,
     "metadata": {},
     "output_type": "execute_result"
    }
   ],
   "source": [
    "new_matrix = np.random.rand(4,4)\n",
    "\n",
    "inv_new_matrix = np.linalg.inv(new_matrix)\n",
    "\n",
    "inv_new_matrix"
   ]
  },
  {
   "cell_type": "code",
   "execution_count": 15,
   "metadata": {},
   "outputs": [],
   "source": [
    "# Изначальная матрица признаковы:\n",
    "\n",
    "x_features = x_features.values\n",
    "\n",
    "# Цель\n",
    "\n",
    "y_target\n",
    "\n",
    "# Закодированная матрица\n",
    "\n",
    "coded_matrix = x_features @ new_matrix\n",
    "\n",
    "# Раскодированная матрица\n",
    "\n",
    "uncoded_matrix = coded_matrix @ inv_new_matrix"
   ]
  },
  {
   "cell_type": "code",
   "execution_count": 16,
   "metadata": {
    "scrolled": true
   },
   "outputs": [
    {
     "name": "stdout",
     "output_type": "stream",
     "text": [
      "\n",
      "Изначальная матрица признаковы\n",
      "\n"
     ]
    },
    {
     "data": {
      "text/html": [
       "<div>\n",
       "<style scoped>\n",
       "    .dataframe tbody tr th:only-of-type {\n",
       "        vertical-align: middle;\n",
       "    }\n",
       "\n",
       "    .dataframe tbody tr th {\n",
       "        vertical-align: top;\n",
       "    }\n",
       "\n",
       "    .dataframe thead th {\n",
       "        text-align: right;\n",
       "    }\n",
       "</style>\n",
       "<table border=\"1\" class=\"dataframe\">\n",
       "  <thead>\n",
       "    <tr style=\"text-align: right;\">\n",
       "      <th></th>\n",
       "      <th>0</th>\n",
       "      <th>1</th>\n",
       "      <th>2</th>\n",
       "      <th>3</th>\n",
       "    </tr>\n",
       "  </thead>\n",
       "  <tbody>\n",
       "    <tr>\n",
       "      <th>0</th>\n",
       "      <td>1.0</td>\n",
       "      <td>41.0</td>\n",
       "      <td>49600.0</td>\n",
       "      <td>1.0</td>\n",
       "    </tr>\n",
       "    <tr>\n",
       "      <th>1</th>\n",
       "      <td>0.0</td>\n",
       "      <td>46.0</td>\n",
       "      <td>38000.0</td>\n",
       "      <td>1.0</td>\n",
       "    </tr>\n",
       "    <tr>\n",
       "      <th>2</th>\n",
       "      <td>0.0</td>\n",
       "      <td>29.0</td>\n",
       "      <td>21000.0</td>\n",
       "      <td>0.0</td>\n",
       "    </tr>\n",
       "    <tr>\n",
       "      <th>3</th>\n",
       "      <td>0.0</td>\n",
       "      <td>21.0</td>\n",
       "      <td>41700.0</td>\n",
       "      <td>2.0</td>\n",
       "    </tr>\n",
       "    <tr>\n",
       "      <th>4</th>\n",
       "      <td>1.0</td>\n",
       "      <td>28.0</td>\n",
       "      <td>26100.0</td>\n",
       "      <td>0.0</td>\n",
       "    </tr>\n",
       "    <tr>\n",
       "      <th>...</th>\n",
       "      <td>...</td>\n",
       "      <td>...</td>\n",
       "      <td>...</td>\n",
       "      <td>...</td>\n",
       "    </tr>\n",
       "    <tr>\n",
       "      <th>4842</th>\n",
       "      <td>0.0</td>\n",
       "      <td>28.0</td>\n",
       "      <td>35700.0</td>\n",
       "      <td>2.0</td>\n",
       "    </tr>\n",
       "    <tr>\n",
       "      <th>4843</th>\n",
       "      <td>0.0</td>\n",
       "      <td>34.0</td>\n",
       "      <td>52400.0</td>\n",
       "      <td>1.0</td>\n",
       "    </tr>\n",
       "    <tr>\n",
       "      <th>4844</th>\n",
       "      <td>0.0</td>\n",
       "      <td>20.0</td>\n",
       "      <td>33900.0</td>\n",
       "      <td>2.0</td>\n",
       "    </tr>\n",
       "    <tr>\n",
       "      <th>4845</th>\n",
       "      <td>1.0</td>\n",
       "      <td>22.0</td>\n",
       "      <td>32700.0</td>\n",
       "      <td>3.0</td>\n",
       "    </tr>\n",
       "    <tr>\n",
       "      <th>4846</th>\n",
       "      <td>1.0</td>\n",
       "      <td>28.0</td>\n",
       "      <td>40600.0</td>\n",
       "      <td>1.0</td>\n",
       "    </tr>\n",
       "  </tbody>\n",
       "</table>\n",
       "<p>4847 rows × 4 columns</p>\n",
       "</div>"
      ],
      "text/plain": [
       "        0     1        2    3\n",
       "0     1.0  41.0  49600.0  1.0\n",
       "1     0.0  46.0  38000.0  1.0\n",
       "2     0.0  29.0  21000.0  0.0\n",
       "3     0.0  21.0  41700.0  2.0\n",
       "4     1.0  28.0  26100.0  0.0\n",
       "...   ...   ...      ...  ...\n",
       "4842  0.0  28.0  35700.0  2.0\n",
       "4843  0.0  34.0  52400.0  1.0\n",
       "4844  0.0  20.0  33900.0  2.0\n",
       "4845  1.0  22.0  32700.0  3.0\n",
       "4846  1.0  28.0  40600.0  1.0\n",
       "\n",
       "[4847 rows x 4 columns]"
      ]
     },
     "metadata": {},
     "output_type": "display_data"
    },
    {
     "name": "stdout",
     "output_type": "stream",
     "text": [
      "\n",
      "Закодированная матрица\n",
      "\n"
     ]
    },
    {
     "data": {
      "text/html": [
       "<div>\n",
       "<style scoped>\n",
       "    .dataframe tbody tr th:only-of-type {\n",
       "        vertical-align: middle;\n",
       "    }\n",
       "\n",
       "    .dataframe tbody tr th {\n",
       "        vertical-align: top;\n",
       "    }\n",
       "\n",
       "    .dataframe thead th {\n",
       "        text-align: right;\n",
       "    }\n",
       "</style>\n",
       "<table border=\"1\" class=\"dataframe\">\n",
       "  <thead>\n",
       "    <tr style=\"text-align: right;\">\n",
       "      <th></th>\n",
       "      <th>0</th>\n",
       "      <th>1</th>\n",
       "      <th>2</th>\n",
       "      <th>3</th>\n",
       "    </tr>\n",
       "  </thead>\n",
       "  <tbody>\n",
       "    <tr>\n",
       "      <th>0</th>\n",
       "      <td>32044.829086</td>\n",
       "      <td>38918.255398</td>\n",
       "      <td>42484.688140</td>\n",
       "      <td>12649.814363</td>\n",
       "    </tr>\n",
       "    <tr>\n",
       "      <th>1</th>\n",
       "      <td>24562.982496</td>\n",
       "      <td>29826.849115</td>\n",
       "      <td>32560.320961</td>\n",
       "      <td>9691.882695</td>\n",
       "    </tr>\n",
       "    <tr>\n",
       "      <th>2</th>\n",
       "      <td>13577.267400</td>\n",
       "      <td>16485.684629</td>\n",
       "      <td>17996.481023</td>\n",
       "      <td>5355.942063</td>\n",
       "    </tr>\n",
       "    <tr>\n",
       "      <th>3</th>\n",
       "      <td>26929.017137</td>\n",
       "      <td>32709.129796</td>\n",
       "      <td>35707.730040</td>\n",
       "      <td>10634.489883</td>\n",
       "    </tr>\n",
       "    <tr>\n",
       "      <th>4</th>\n",
       "      <td>16868.016464</td>\n",
       "      <td>20484.234798</td>\n",
       "      <td>22360.754105</td>\n",
       "      <td>6656.761223</td>\n",
       "    </tr>\n",
       "    <tr>\n",
       "      <th>...</th>\n",
       "      <td>...</td>\n",
       "      <td>...</td>\n",
       "      <td>...</td>\n",
       "      <td>...</td>\n",
       "    </tr>\n",
       "    <tr>\n",
       "      <th>4842</th>\n",
       "      <td>23063.215095</td>\n",
       "      <td>28010.544133</td>\n",
       "      <td>30577.947056</td>\n",
       "      <td>9105.020670</td>\n",
       "    </tr>\n",
       "    <tr>\n",
       "      <th>4843</th>\n",
       "      <td>33845.120654</td>\n",
       "      <td>41107.100444</td>\n",
       "      <td>44875.589933</td>\n",
       "      <td>13362.860005</td>\n",
       "    </tr>\n",
       "    <tr>\n",
       "      <th>4844</th>\n",
       "      <td>21894.609089</td>\n",
       "      <td>26593.297190</td>\n",
       "      <td>29031.037771</td>\n",
       "      <td>8645.651342</td>\n",
       "    </tr>\n",
       "    <tr>\n",
       "      <th>4845</th>\n",
       "      <td>21122.726165</td>\n",
       "      <td>25655.557579</td>\n",
       "      <td>28005.977501</td>\n",
       "      <td>8340.817107</td>\n",
       "    </tr>\n",
       "    <tr>\n",
       "      <th>4846</th>\n",
       "      <td>26225.498622</td>\n",
       "      <td>31852.527969</td>\n",
       "      <td>34771.459391</td>\n",
       "      <td>10354.380717</td>\n",
       "    </tr>\n",
       "  </tbody>\n",
       "</table>\n",
       "<p>4847 rows × 4 columns</p>\n",
       "</div>"
      ],
      "text/plain": [
       "                 0             1             2             3\n",
       "0     32044.829086  38918.255398  42484.688140  12649.814363\n",
       "1     24562.982496  29826.849115  32560.320961   9691.882695\n",
       "2     13577.267400  16485.684629  17996.481023   5355.942063\n",
       "3     26929.017137  32709.129796  35707.730040  10634.489883\n",
       "4     16868.016464  20484.234798  22360.754105   6656.761223\n",
       "...            ...           ...           ...           ...\n",
       "4842  23063.215095  28010.544133  30577.947056   9105.020670\n",
       "4843  33845.120654  41107.100444  44875.589933  13362.860005\n",
       "4844  21894.609089  26593.297190  29031.037771   8645.651342\n",
       "4845  21122.726165  25655.557579  28005.977501   8340.817107\n",
       "4846  26225.498622  31852.527969  34771.459391  10354.380717\n",
       "\n",
       "[4847 rows x 4 columns]"
      ]
     },
     "metadata": {},
     "output_type": "display_data"
    },
    {
     "name": "stdout",
     "output_type": "stream",
     "text": [
      "\n",
      "Раскодированная матрица\n",
      "\n"
     ]
    },
    {
     "data": {
      "text/html": [
       "<div>\n",
       "<style scoped>\n",
       "    .dataframe tbody tr th:only-of-type {\n",
       "        vertical-align: middle;\n",
       "    }\n",
       "\n",
       "    .dataframe tbody tr th {\n",
       "        vertical-align: top;\n",
       "    }\n",
       "\n",
       "    .dataframe thead th {\n",
       "        text-align: right;\n",
       "    }\n",
       "</style>\n",
       "<table border=\"1\" class=\"dataframe\">\n",
       "  <thead>\n",
       "    <tr style=\"text-align: right;\">\n",
       "      <th></th>\n",
       "      <th>0</th>\n",
       "      <th>1</th>\n",
       "      <th>2</th>\n",
       "      <th>3</th>\n",
       "    </tr>\n",
       "  </thead>\n",
       "  <tbody>\n",
       "    <tr>\n",
       "      <th>0</th>\n",
       "      <td>1.000000e+00</td>\n",
       "      <td>41.0</td>\n",
       "      <td>49600.0</td>\n",
       "      <td>1.000000e+00</td>\n",
       "    </tr>\n",
       "    <tr>\n",
       "      <th>1</th>\n",
       "      <td>-6.111218e-12</td>\n",
       "      <td>46.0</td>\n",
       "      <td>38000.0</td>\n",
       "      <td>1.000000e+00</td>\n",
       "    </tr>\n",
       "    <tr>\n",
       "      <th>2</th>\n",
       "      <td>-7.350383e-13</td>\n",
       "      <td>29.0</td>\n",
       "      <td>21000.0</td>\n",
       "      <td>-3.993107e-12</td>\n",
       "    </tr>\n",
       "    <tr>\n",
       "      <th>3</th>\n",
       "      <td>-3.698819e-12</td>\n",
       "      <td>21.0</td>\n",
       "      <td>41700.0</td>\n",
       "      <td>2.000000e+00</td>\n",
       "    </tr>\n",
       "    <tr>\n",
       "      <th>4</th>\n",
       "      <td>1.000000e+00</td>\n",
       "      <td>28.0</td>\n",
       "      <td>26100.0</td>\n",
       "      <td>6.375518e-13</td>\n",
       "    </tr>\n",
       "    <tr>\n",
       "      <th>...</th>\n",
       "      <td>...</td>\n",
       "      <td>...</td>\n",
       "      <td>...</td>\n",
       "      <td>...</td>\n",
       "    </tr>\n",
       "    <tr>\n",
       "      <th>4842</th>\n",
       "      <td>-6.300363e-13</td>\n",
       "      <td>28.0</td>\n",
       "      <td>35700.0</td>\n",
       "      <td>2.000000e+00</td>\n",
       "    </tr>\n",
       "    <tr>\n",
       "      <th>4843</th>\n",
       "      <td>-4.731523e-12</td>\n",
       "      <td>34.0</td>\n",
       "      <td>52400.0</td>\n",
       "      <td>1.000000e+00</td>\n",
       "    </tr>\n",
       "    <tr>\n",
       "      <th>4844</th>\n",
       "      <td>9.511379e-13</td>\n",
       "      <td>20.0</td>\n",
       "      <td>33900.0</td>\n",
       "      <td>2.000000e+00</td>\n",
       "    </tr>\n",
       "    <tr>\n",
       "      <th>4845</th>\n",
       "      <td>1.000000e+00</td>\n",
       "      <td>22.0</td>\n",
       "      <td>32700.0</td>\n",
       "      <td>3.000000e+00</td>\n",
       "    </tr>\n",
       "    <tr>\n",
       "      <th>4846</th>\n",
       "      <td>1.000000e+00</td>\n",
       "      <td>28.0</td>\n",
       "      <td>40600.0</td>\n",
       "      <td>1.000000e+00</td>\n",
       "    </tr>\n",
       "  </tbody>\n",
       "</table>\n",
       "<p>4847 rows × 4 columns</p>\n",
       "</div>"
      ],
      "text/plain": [
       "                 0     1        2             3\n",
       "0     1.000000e+00  41.0  49600.0  1.000000e+00\n",
       "1    -6.111218e-12  46.0  38000.0  1.000000e+00\n",
       "2    -7.350383e-13  29.0  21000.0 -3.993107e-12\n",
       "3    -3.698819e-12  21.0  41700.0  2.000000e+00\n",
       "4     1.000000e+00  28.0  26100.0  6.375518e-13\n",
       "...            ...   ...      ...           ...\n",
       "4842 -6.300363e-13  28.0  35700.0  2.000000e+00\n",
       "4843 -4.731523e-12  34.0  52400.0  1.000000e+00\n",
       "4844  9.511379e-13  20.0  33900.0  2.000000e+00\n",
       "4845  1.000000e+00  22.0  32700.0  3.000000e+00\n",
       "4846  1.000000e+00  28.0  40600.0  1.000000e+00\n",
       "\n",
       "[4847 rows x 4 columns]"
      ]
     },
     "metadata": {},
     "output_type": "display_data"
    }
   ],
   "source": [
    "print()\n",
    "print(\"Изначальная матрица признаковы\")\n",
    "print()\n",
    "display(pd.DataFrame(x_features))\n",
    "print()\n",
    "print(\"Закодированная матрица\")\n",
    "print()\n",
    "display(pd.DataFrame(coded_matrix))\n",
    "print()\n",
    "print(\"Раскодированная матрица\")\n",
    "print()\n",
    "display(pd.DataFrame(uncoded_matrix))"
   ]
  },
  {
   "cell_type": "markdown",
   "metadata": {},
   "source": [
    "## Проверка алгоритма"
   ]
  },
  {
   "cell_type": "markdown",
   "metadata": {},
   "source": [
    "Проверик метрику R2 на всех стадиях обучения модели: Изначальные данные - закодированные данные - раскодированные данные."
   ]
  },
  {
   "cell_type": "code",
   "execution_count": 17,
   "metadata": {},
   "outputs": [],
   "source": [
    "def R2_fast (features_train, features_test, target_train, target_test):\n",
    "    model = LinearRegression()\n",
    "    model.fit(features_train, target_train)\n",
    "    prediction = model.predict(features_test)\n",
    "    return r2_score(target_test, prediction)"
   ]
  },
  {
   "cell_type": "code",
   "execution_count": 18,
   "metadata": {},
   "outputs": [],
   "source": [
    "features_train, features_test, target_train, target_test = train_test_split(\n",
    "    x_features, y_target, test_size = 0.25, random_state = 12345)"
   ]
  },
  {
   "cell_type": "code",
   "execution_count": 19,
   "metadata": {},
   "outputs": [],
   "source": [
    "features_train_coded, features_test_coded, target_train_coded, target_test_coded = train_test_split(\n",
    "    coded_matrix, y_target, test_size = 0.25, random_state = 12345)"
   ]
  },
  {
   "cell_type": "code",
   "execution_count": 20,
   "metadata": {},
   "outputs": [],
   "source": [
    "features_train_uncoded, features_test_uncoded, target_train_uncoded, target_test_uncoded = train_test_split(\n",
    "    uncoded_matrix, y_target, test_size = 0.25, random_state = 12345)"
   ]
  },
  {
   "cell_type": "code",
   "execution_count": 21,
   "metadata": {},
   "outputs": [
    {
     "data": {
      "text/plain": [
       "0.42307727492147584"
      ]
     },
     "execution_count": 21,
     "metadata": {},
     "output_type": "execute_result"
    }
   ],
   "source": [
    "R2_fast (features_train, features_test, target_train, target_test)"
   ]
  },
  {
   "cell_type": "code",
   "execution_count": 22,
   "metadata": {},
   "outputs": [
    {
     "data": {
      "text/plain": [
       "0.42307727492235325"
      ]
     },
     "execution_count": 22,
     "metadata": {},
     "output_type": "execute_result"
    }
   ],
   "source": [
    "R2_fast (features_train_coded, features_test_coded, target_train_coded, target_test_coded)"
   ]
  },
  {
   "cell_type": "code",
   "execution_count": 23,
   "metadata": {},
   "outputs": [
    {
     "data": {
      "text/plain": [
       "0.42307727492146696"
      ]
     },
     "execution_count": 23,
     "metadata": {},
     "output_type": "execute_result"
    }
   ],
   "source": [
    "R2_fast (features_train_uncoded, features_test_uncoded, target_train_uncoded, target_test_uncoded)"
   ]
  },
  {
   "cell_type": "code",
   "execution_count": 24,
   "metadata": {
    "scrolled": true
   },
   "outputs": [
    {
     "data": {
      "text/html": [
       "<div>\n",
       "<style scoped>\n",
       "    .dataframe tbody tr th:only-of-type {\n",
       "        vertical-align: middle;\n",
       "    }\n",
       "\n",
       "    .dataframe tbody tr th {\n",
       "        vertical-align: top;\n",
       "    }\n",
       "\n",
       "    .dataframe thead th {\n",
       "        text-align: right;\n",
       "    }\n",
       "</style>\n",
       "<table border=\"1\" class=\"dataframe\">\n",
       "  <thead>\n",
       "    <tr style=\"text-align: right;\">\n",
       "      <th></th>\n",
       "      <th>R2_score</th>\n",
       "    </tr>\n",
       "  </thead>\n",
       "  <tbody>\n",
       "    <tr>\n",
       "      <th>Изначальная матрица признаков</th>\n",
       "      <td>0.423077</td>\n",
       "    </tr>\n",
       "    <tr>\n",
       "      <th>Закодированная матрица</th>\n",
       "      <td>0.423077</td>\n",
       "    </tr>\n",
       "    <tr>\n",
       "      <th>Раскодированная матрица</th>\n",
       "      <td>0.423077</td>\n",
       "    </tr>\n",
       "  </tbody>\n",
       "</table>\n",
       "</div>"
      ],
      "text/plain": [
       "                               R2_score\n",
       "Изначальная матрица признаков  0.423077\n",
       "Закодированная матрица         0.423077\n",
       "Раскодированная матрица        0.423077"
      ]
     },
     "execution_count": 24,
     "metadata": {},
     "output_type": "execute_result"
    }
   ],
   "source": [
    "result = pd.DataFrame(data= [R2_fast (features_train, features_test, target_train, target_test),\n",
    "                      R2_fast (features_train_coded, features_test_coded, target_train_coded, target_test_coded),\n",
    "                      R2_fast (features_train_uncoded, features_test_uncoded, target_train_uncoded, target_test_uncoded),], \n",
    "                     columns=['R2_score'], \n",
    "                     index=['Изначальная матрица признаков',\n",
    "                            'Закодированная матрица',\n",
    "                            'Раскодированная матрица',])\n",
    "result"
   ]
  },
  {
   "cell_type": "markdown",
   "metadata": {},
   "source": [
    "**Вывод**\n",
    "\n",
    "Мы доказали, что при умножении изначальной матрицы признаков на матрицу которая имеет обратную себе ни как не повлияет на результат обучения линейной регрессии, а также может помоч в кодировании информации."
   ]
  }
 ],
 "metadata": {
  "ExecuteTimeLog": [
   {
    "duration": 427,
    "start_time": "2022-07-28T09:07:32.531Z"
   },
   {
    "duration": 85,
    "start_time": "2022-07-28T09:07:52.273Z"
   },
   {
    "duration": 16,
    "start_time": "2022-07-28T09:07:57.134Z"
   },
   {
    "duration": 11,
    "start_time": "2022-07-28T09:08:06.478Z"
   },
   {
    "duration": 13,
    "start_time": "2022-07-28T09:08:15.981Z"
   },
   {
    "duration": 9,
    "start_time": "2022-07-28T09:08:18.780Z"
   },
   {
    "duration": 7,
    "start_time": "2022-07-28T09:08:25.287Z"
   },
   {
    "duration": 6,
    "start_time": "2022-07-28T09:08:31.490Z"
   },
   {
    "duration": 6,
    "start_time": "2022-07-28T09:08:36.732Z"
   },
   {
    "duration": 4,
    "start_time": "2022-07-28T09:10:17.748Z"
   },
   {
    "duration": 10,
    "start_time": "2022-07-28T09:10:25.308Z"
   },
   {
    "duration": 60,
    "start_time": "2022-07-28T09:11:44.356Z"
   },
   {
    "duration": 7,
    "start_time": "2022-07-28T09:11:48.567Z"
   },
   {
    "duration": 14,
    "start_time": "2022-07-28T09:11:50.679Z"
   },
   {
    "duration": 7,
    "start_time": "2022-07-28T09:11:56.232Z"
   },
   {
    "duration": 7,
    "start_time": "2022-07-28T09:12:01.219Z"
   },
   {
    "duration": 6,
    "start_time": "2022-07-28T09:12:06.219Z"
   },
   {
    "duration": 4,
    "start_time": "2022-07-28T09:12:08.052Z"
   },
   {
    "duration": 3,
    "start_time": "2022-07-28T09:12:15.327Z"
   },
   {
    "duration": 394,
    "start_time": "2022-07-28T09:12:18.800Z"
   },
   {
    "duration": 33,
    "start_time": "2022-07-28T09:12:19.197Z"
   },
   {
    "duration": 18,
    "start_time": "2022-07-28T09:12:19.231Z"
   },
   {
    "duration": 5,
    "start_time": "2022-07-28T09:12:19.251Z"
   },
   {
    "duration": 16,
    "start_time": "2022-07-28T09:12:19.258Z"
   },
   {
    "duration": 17,
    "start_time": "2022-07-28T09:12:19.276Z"
   },
   {
    "duration": 8,
    "start_time": "2022-07-28T09:12:19.295Z"
   },
   {
    "duration": 23,
    "start_time": "2022-07-28T09:12:19.305Z"
   },
   {
    "duration": 6,
    "start_time": "2022-07-28T09:12:19.330Z"
   },
   {
    "duration": 11,
    "start_time": "2022-07-28T09:12:19.337Z"
   },
   {
    "duration": 1017,
    "start_time": "2022-08-01T11:27:20.781Z"
   },
   {
    "duration": 102,
    "start_time": "2022-08-01T11:27:21.800Z"
   },
   {
    "duration": 15,
    "start_time": "2022-08-01T11:27:21.904Z"
   },
   {
    "duration": 5,
    "start_time": "2022-08-01T11:27:21.920Z"
   },
   {
    "duration": 14,
    "start_time": "2022-08-01T11:27:21.927Z"
   },
   {
    "duration": 5,
    "start_time": "2022-08-01T11:27:21.943Z"
   },
   {
    "duration": 36,
    "start_time": "2022-08-01T11:27:21.949Z"
   },
   {
    "duration": 11,
    "start_time": "2022-08-01T11:27:21.987Z"
   },
   {
    "duration": 7,
    "start_time": "2022-08-01T11:27:21.999Z"
   },
   {
    "duration": 5,
    "start_time": "2022-08-01T11:27:22.008Z"
   },
   {
    "duration": 3,
    "start_time": "2022-08-01T11:29:45.283Z"
   },
   {
    "duration": 3,
    "start_time": "2022-08-01T11:29:58.010Z"
   },
   {
    "duration": 3,
    "start_time": "2022-08-01T11:30:04.687Z"
   },
   {
    "duration": 1306,
    "start_time": "2022-08-02T07:53:50.754Z"
   },
   {
    "duration": 167,
    "start_time": "2022-08-02T07:53:52.063Z"
   },
   {
    "duration": 25,
    "start_time": "2022-08-02T07:53:52.233Z"
   },
   {
    "duration": 17,
    "start_time": "2022-08-02T07:53:52.261Z"
   },
   {
    "duration": 34,
    "start_time": "2022-08-02T07:53:52.281Z"
   },
   {
    "duration": 70,
    "start_time": "2022-08-02T07:53:52.317Z"
   },
   {
    "duration": 116,
    "start_time": "2022-08-02T07:53:52.389Z"
   },
   {
    "duration": 68,
    "start_time": "2022-08-02T07:53:52.508Z"
   },
   {
    "duration": 79,
    "start_time": "2022-08-02T07:53:52.578Z"
   },
   {
    "duration": 18,
    "start_time": "2022-08-02T07:53:52.659Z"
   },
   {
    "duration": 6,
    "start_time": "2022-08-02T07:53:52.679Z"
   },
   {
    "duration": 14,
    "start_time": "2022-08-02T07:53:52.686Z"
   },
   {
    "duration": 32,
    "start_time": "2022-08-02T07:54:15.337Z"
   },
   {
    "duration": 48,
    "start_time": "2022-08-12T12:37:18.502Z"
   },
   {
    "duration": 1088,
    "start_time": "2022-08-12T12:37:22.971Z"
   },
   {
    "duration": 79,
    "start_time": "2022-08-12T12:37:24.062Z"
   },
   {
    "duration": 18,
    "start_time": "2022-08-12T12:37:24.142Z"
   },
   {
    "duration": 10,
    "start_time": "2022-08-12T12:37:24.162Z"
   },
   {
    "duration": 40,
    "start_time": "2022-08-12T12:37:24.174Z"
   },
   {
    "duration": 36,
    "start_time": "2022-08-12T12:37:24.216Z"
   },
   {
    "duration": 20,
    "start_time": "2022-08-12T12:37:24.253Z"
   },
   {
    "duration": 34,
    "start_time": "2022-08-12T12:37:24.275Z"
   },
   {
    "duration": 28,
    "start_time": "2022-08-12T12:37:24.310Z"
   },
   {
    "duration": 5,
    "start_time": "2022-08-12T12:37:24.340Z"
   },
   {
    "duration": 19,
    "start_time": "2022-08-12T12:37:24.347Z"
   },
   {
    "duration": 21,
    "start_time": "2022-08-12T12:37:24.368Z"
   },
   {
    "duration": 20,
    "start_time": "2022-08-12T12:37:24.390Z"
   },
   {
    "duration": 17,
    "start_time": "2022-08-12T12:37:24.412Z"
   },
   {
    "duration": 147,
    "start_time": "2022-08-12T12:37:42.732Z"
   },
   {
    "duration": 4,
    "start_time": "2022-08-12T12:37:53.616Z"
   },
   {
    "duration": 5,
    "start_time": "2022-08-12T12:37:59.369Z"
   },
   {
    "duration": 4,
    "start_time": "2022-08-12T12:45:20.669Z"
   },
   {
    "duration": 5,
    "start_time": "2022-08-12T12:45:21.060Z"
   },
   {
    "duration": 8,
    "start_time": "2022-08-12T12:48:21.421Z"
   },
   {
    "duration": 4,
    "start_time": "2022-08-12T12:49:22.151Z"
   },
   {
    "duration": 5,
    "start_time": "2022-08-12T12:49:22.358Z"
   },
   {
    "duration": 1069,
    "start_time": "2022-08-12T12:49:28.048Z"
   },
   {
    "duration": 31,
    "start_time": "2022-08-12T12:49:29.119Z"
   },
   {
    "duration": 27,
    "start_time": "2022-08-12T12:49:29.153Z"
   },
   {
    "duration": 17,
    "start_time": "2022-08-12T12:49:29.182Z"
   },
   {
    "duration": 19,
    "start_time": "2022-08-12T12:49:29.202Z"
   },
   {
    "duration": 12,
    "start_time": "2022-08-12T12:49:29.223Z"
   },
   {
    "duration": 12,
    "start_time": "2022-08-12T12:49:29.237Z"
   },
   {
    "duration": 18,
    "start_time": "2022-08-12T12:49:29.251Z"
   },
   {
    "duration": 29,
    "start_time": "2022-08-12T12:49:29.272Z"
   },
   {
    "duration": 7,
    "start_time": "2022-08-12T12:49:29.302Z"
   },
   {
    "duration": 12,
    "start_time": "2022-08-12T12:49:29.310Z"
   },
   {
    "duration": 7,
    "start_time": "2022-08-12T12:49:29.324Z"
   },
   {
    "duration": 25,
    "start_time": "2022-08-12T12:49:29.333Z"
   },
   {
    "duration": 6,
    "start_time": "2022-08-12T12:49:29.361Z"
   },
   {
    "duration": 259,
    "start_time": "2022-08-12T12:49:29.369Z"
   },
   {
    "duration": 5,
    "start_time": "2022-08-12T12:50:31.256Z"
   },
   {
    "duration": 4,
    "start_time": "2022-08-12T12:50:31.592Z"
   },
   {
    "duration": 4,
    "start_time": "2022-08-12T12:50:34.482Z"
   },
   {
    "duration": 5,
    "start_time": "2022-08-12T12:51:17.951Z"
   },
   {
    "duration": 9,
    "start_time": "2022-08-12T12:51:32.273Z"
   },
   {
    "duration": 31,
    "start_time": "2022-08-12T12:51:57.958Z"
   },
   {
    "duration": 72,
    "start_time": "2022-08-12T12:52:43.629Z"
   },
   {
    "duration": 73,
    "start_time": "2022-08-12T12:52:57.014Z"
   },
   {
    "duration": 31,
    "start_time": "2022-08-12T12:53:03.006Z"
   },
   {
    "duration": 42,
    "start_time": "2022-08-12T12:53:24.251Z"
   },
   {
    "duration": 30,
    "start_time": "2022-08-12T12:54:56.671Z"
   },
   {
    "duration": 36,
    "start_time": "2022-08-12T12:55:09.573Z"
   },
   {
    "duration": 4,
    "start_time": "2022-08-12T12:58:30.875Z"
   },
   {
    "duration": 7,
    "start_time": "2022-08-12T12:59:36.903Z"
   },
   {
    "duration": 4,
    "start_time": "2022-08-12T13:00:20.426Z"
   },
   {
    "duration": 6,
    "start_time": "2022-08-12T13:00:25.103Z"
   },
   {
    "duration": 5,
    "start_time": "2022-08-12T13:00:27.438Z"
   },
   {
    "duration": 10,
    "start_time": "2022-08-12T13:00:28.772Z"
   },
   {
    "duration": 30,
    "start_time": "2022-08-12T13:00:29.068Z"
   },
   {
    "duration": 3,
    "start_time": "2022-08-12T13:00:32.315Z"
   },
   {
    "duration": 4,
    "start_time": "2022-08-12T13:00:33.546Z"
   },
   {
    "duration": 5,
    "start_time": "2022-08-12T13:01:43.102Z"
   },
   {
    "duration": 4,
    "start_time": "2022-08-12T13:02:07.611Z"
   },
   {
    "duration": 7,
    "start_time": "2022-08-12T13:02:31.122Z"
   },
   {
    "duration": 7,
    "start_time": "2022-08-12T13:04:38.325Z"
   },
   {
    "duration": 6,
    "start_time": "2022-08-12T13:04:56.373Z"
   },
   {
    "duration": 13,
    "start_time": "2022-08-12T13:07:04.522Z"
   },
   {
    "duration": 8,
    "start_time": "2022-08-12T13:09:03.967Z"
   },
   {
    "duration": 3,
    "start_time": "2022-08-12T13:09:36.023Z"
   },
   {
    "duration": 3,
    "start_time": "2022-08-12T13:09:45.417Z"
   },
   {
    "duration": 1032,
    "start_time": "2022-08-12T13:09:50.415Z"
   },
   {
    "duration": 31,
    "start_time": "2022-08-12T13:09:51.449Z"
   },
   {
    "duration": 16,
    "start_time": "2022-08-12T13:09:51.482Z"
   },
   {
    "duration": 5,
    "start_time": "2022-08-12T13:09:51.500Z"
   },
   {
    "duration": 19,
    "start_time": "2022-08-12T13:09:51.507Z"
   },
   {
    "duration": 8,
    "start_time": "2022-08-12T13:09:51.528Z"
   },
   {
    "duration": 19,
    "start_time": "2022-08-12T13:09:51.538Z"
   },
   {
    "duration": 14,
    "start_time": "2022-08-12T13:09:51.559Z"
   },
   {
    "duration": 28,
    "start_time": "2022-08-12T13:09:51.574Z"
   },
   {
    "duration": 5,
    "start_time": "2022-08-12T13:09:51.603Z"
   },
   {
    "duration": 8,
    "start_time": "2022-08-12T13:09:51.609Z"
   },
   {
    "duration": 7,
    "start_time": "2022-08-12T13:09:51.618Z"
   },
   {
    "duration": 12,
    "start_time": "2022-08-12T13:09:51.626Z"
   },
   {
    "duration": 19,
    "start_time": "2022-08-12T13:09:51.640Z"
   },
   {
    "duration": 4,
    "start_time": "2022-08-12T13:09:51.661Z"
   },
   {
    "duration": 191,
    "start_time": "2022-08-12T13:09:51.667Z"
   },
   {
    "duration": 3,
    "start_time": "2022-08-12T13:09:51.860Z"
   },
   {
    "duration": 17,
    "start_time": "2022-08-12T13:09:51.865Z"
   },
   {
    "duration": 10,
    "start_time": "2022-08-12T13:09:51.883Z"
   },
   {
    "duration": 12,
    "start_time": "2022-08-12T13:09:51.895Z"
   },
   {
    "duration": 11,
    "start_time": "2022-08-12T13:09:51.909Z"
   },
   {
    "duration": 9,
    "start_time": "2022-08-12T13:09:51.922Z"
   },
   {
    "duration": 10,
    "start_time": "2022-08-12T13:09:51.933Z"
   },
   {
    "duration": 45,
    "start_time": "2022-08-12T13:09:51.945Z"
   },
   {
    "duration": 100,
    "start_time": "2022-08-12T13:11:22.309Z"
   },
   {
    "duration": 8,
    "start_time": "2022-08-12T13:11:26.106Z"
   },
   {
    "duration": 1046,
    "start_time": "2022-08-12T13:11:36.521Z"
   },
   {
    "duration": 29,
    "start_time": "2022-08-12T13:11:37.568Z"
   },
   {
    "duration": 15,
    "start_time": "2022-08-12T13:11:37.599Z"
   },
   {
    "duration": 5,
    "start_time": "2022-08-12T13:11:37.616Z"
   },
   {
    "duration": 33,
    "start_time": "2022-08-12T13:11:37.623Z"
   },
   {
    "duration": 18,
    "start_time": "2022-08-12T13:11:37.658Z"
   },
   {
    "duration": 9,
    "start_time": "2022-08-12T13:11:37.678Z"
   },
   {
    "duration": 18,
    "start_time": "2022-08-12T13:11:37.689Z"
   },
   {
    "duration": 24,
    "start_time": "2022-08-12T13:11:37.708Z"
   },
   {
    "duration": 10,
    "start_time": "2022-08-12T13:11:37.733Z"
   },
   {
    "duration": 32,
    "start_time": "2022-08-12T13:11:37.744Z"
   },
   {
    "duration": 32,
    "start_time": "2022-08-12T13:11:37.777Z"
   },
   {
    "duration": 17,
    "start_time": "2022-08-12T13:11:37.810Z"
   },
   {
    "duration": 16,
    "start_time": "2022-08-12T13:11:37.829Z"
   },
   {
    "duration": 14,
    "start_time": "2022-08-12T13:11:37.846Z"
   },
   {
    "duration": 123,
    "start_time": "2022-08-12T13:11:37.862Z"
   },
   {
    "duration": 4,
    "start_time": "2022-08-12T13:11:37.986Z"
   },
   {
    "duration": 82,
    "start_time": "2022-08-12T13:11:37.992Z"
   },
   {
    "duration": 22,
    "start_time": "2022-08-12T13:11:38.076Z"
   },
   {
    "duration": 16,
    "start_time": "2022-08-12T13:11:38.100Z"
   },
   {
    "duration": 22,
    "start_time": "2022-08-12T13:11:38.118Z"
   },
   {
    "duration": 6,
    "start_time": "2022-08-12T13:11:38.142Z"
   },
   {
    "duration": 6,
    "start_time": "2022-08-12T13:11:38.150Z"
   },
   {
    "duration": 15,
    "start_time": "2022-08-12T13:11:38.158Z"
   },
   {
    "duration": 1420,
    "start_time": "2022-08-12T16:59:08.280Z"
   },
   {
    "duration": 90,
    "start_time": "2022-08-12T16:59:09.701Z"
   },
   {
    "duration": 15,
    "start_time": "2022-08-12T16:59:09.793Z"
   },
   {
    "duration": 15,
    "start_time": "2022-08-12T16:59:09.810Z"
   },
   {
    "duration": 14,
    "start_time": "2022-08-12T16:59:09.827Z"
   },
   {
    "duration": 11,
    "start_time": "2022-08-12T16:59:09.843Z"
   },
   {
    "duration": 14,
    "start_time": "2022-08-12T16:59:09.856Z"
   },
   {
    "duration": 29,
    "start_time": "2022-08-12T16:59:09.872Z"
   },
   {
    "duration": 25,
    "start_time": "2022-08-12T16:59:09.903Z"
   },
   {
    "duration": 16,
    "start_time": "2022-08-12T16:59:09.930Z"
   },
   {
    "duration": 16,
    "start_time": "2022-08-12T16:59:09.947Z"
   },
   {
    "duration": 20,
    "start_time": "2022-08-12T16:59:09.974Z"
   },
   {
    "duration": 8,
    "start_time": "2022-08-12T16:59:09.995Z"
   },
   {
    "duration": 10,
    "start_time": "2022-08-12T16:59:10.004Z"
   },
   {
    "duration": 8,
    "start_time": "2022-08-12T16:59:10.017Z"
   },
   {
    "duration": 114,
    "start_time": "2022-08-12T16:59:10.061Z"
   },
   {
    "duration": 5,
    "start_time": "2022-08-12T16:59:10.177Z"
   },
   {
    "duration": 15,
    "start_time": "2022-08-12T16:59:10.183Z"
   },
   {
    "duration": 5,
    "start_time": "2022-08-12T16:59:10.200Z"
   },
   {
    "duration": 9,
    "start_time": "2022-08-12T16:59:10.207Z"
   },
   {
    "duration": 13,
    "start_time": "2022-08-12T16:59:10.218Z"
   },
   {
    "duration": 33,
    "start_time": "2022-08-12T16:59:10.233Z"
   },
   {
    "duration": 9,
    "start_time": "2022-08-12T16:59:10.269Z"
   },
   {
    "duration": 18,
    "start_time": "2022-08-12T16:59:10.280Z"
   },
   {
    "duration": 63,
    "start_time": "2022-08-14T20:12:56.007Z"
   },
   {
    "duration": 1079,
    "start_time": "2022-08-14T20:13:00.309Z"
   },
   {
    "duration": 90,
    "start_time": "2022-08-14T20:13:01.389Z"
   },
   {
    "duration": 13,
    "start_time": "2022-08-14T20:13:01.481Z"
   },
   {
    "duration": 4,
    "start_time": "2022-08-14T20:13:01.496Z"
   },
   {
    "duration": 18,
    "start_time": "2022-08-14T20:13:01.501Z"
   },
   {
    "duration": 5,
    "start_time": "2022-08-14T20:13:01.521Z"
   },
   {
    "duration": 7,
    "start_time": "2022-08-14T20:13:01.527Z"
   },
   {
    "duration": 15,
    "start_time": "2022-08-14T20:13:01.535Z"
   },
   {
    "duration": 24,
    "start_time": "2022-08-14T20:13:01.551Z"
   },
   {
    "duration": 4,
    "start_time": "2022-08-14T20:13:01.577Z"
   },
   {
    "duration": 6,
    "start_time": "2022-08-14T20:13:01.583Z"
   },
   {
    "duration": 10,
    "start_time": "2022-08-14T20:13:01.590Z"
   },
   {
    "duration": 15,
    "start_time": "2022-08-14T20:13:01.602Z"
   },
   {
    "duration": 10,
    "start_time": "2022-08-14T20:13:01.618Z"
   },
   {
    "duration": 8,
    "start_time": "2022-08-14T20:13:01.629Z"
   },
   {
    "duration": 178,
    "start_time": "2022-08-14T20:13:01.638Z"
   },
   {
    "duration": 4,
    "start_time": "2022-08-14T20:13:01.817Z"
   },
   {
    "duration": 11,
    "start_time": "2022-08-14T20:13:01.822Z"
   },
   {
    "duration": 15,
    "start_time": "2022-08-14T20:13:01.835Z"
   },
   {
    "duration": 21,
    "start_time": "2022-08-14T20:13:01.852Z"
   },
   {
    "duration": 18,
    "start_time": "2022-08-14T20:13:01.874Z"
   },
   {
    "duration": 5,
    "start_time": "2022-08-14T20:13:01.894Z"
   },
   {
    "duration": 12,
    "start_time": "2022-08-14T20:13:01.900Z"
   },
   {
    "duration": 18,
    "start_time": "2022-08-14T20:13:01.913Z"
   },
   {
    "duration": 9,
    "start_time": "2022-08-14T20:13:09.321Z"
   },
   {
    "duration": 7,
    "start_time": "2022-08-14T20:13:20.899Z"
   },
   {
    "duration": 8,
    "start_time": "2022-08-14T20:13:24.611Z"
   },
   {
    "duration": 1006,
    "start_time": "2022-08-14T20:13:44.519Z"
   },
   {
    "duration": 31,
    "start_time": "2022-08-14T20:13:45.527Z"
   },
   {
    "duration": 14,
    "start_time": "2022-08-14T20:13:45.561Z"
   },
   {
    "duration": 4,
    "start_time": "2022-08-14T20:13:45.576Z"
   },
   {
    "duration": 12,
    "start_time": "2022-08-14T20:13:45.581Z"
   },
   {
    "duration": 6,
    "start_time": "2022-08-14T20:13:45.594Z"
   },
   {
    "duration": 4,
    "start_time": "2022-08-14T20:13:45.602Z"
   },
   {
    "duration": 12,
    "start_time": "2022-08-14T20:13:45.607Z"
   },
   {
    "duration": 20,
    "start_time": "2022-08-14T20:13:45.621Z"
   },
   {
    "duration": 4,
    "start_time": "2022-08-14T20:13:45.642Z"
   },
   {
    "duration": 5,
    "start_time": "2022-08-14T20:13:45.647Z"
   },
   {
    "duration": 6,
    "start_time": "2022-08-14T20:13:45.653Z"
   },
   {
    "duration": 6,
    "start_time": "2022-08-14T20:13:45.660Z"
   },
   {
    "duration": 39,
    "start_time": "2022-08-14T20:13:45.668Z"
   },
   {
    "duration": 11,
    "start_time": "2022-08-14T20:13:45.709Z"
   },
   {
    "duration": 110,
    "start_time": "2022-08-14T20:13:45.722Z"
   },
   {
    "duration": 3,
    "start_time": "2022-08-14T20:13:45.833Z"
   },
   {
    "duration": 7,
    "start_time": "2022-08-14T20:13:45.837Z"
   },
   {
    "duration": 5,
    "start_time": "2022-08-14T20:13:45.846Z"
   },
   {
    "duration": 6,
    "start_time": "2022-08-14T20:13:45.852Z"
   },
   {
    "duration": 9,
    "start_time": "2022-08-14T20:13:45.859Z"
   },
   {
    "duration": 4,
    "start_time": "2022-08-14T20:13:45.870Z"
   },
   {
    "duration": 31,
    "start_time": "2022-08-14T20:13:45.876Z"
   },
   {
    "duration": 14,
    "start_time": "2022-08-14T20:13:45.908Z"
   }
  ],
  "kernelspec": {
   "display_name": "Python 3 (ipykernel)",
   "language": "python",
   "name": "python3"
  },
  "language_info": {
   "codemirror_mode": {
    "name": "ipython",
    "version": 3
   },
   "file_extension": ".py",
   "mimetype": "text/x-python",
   "name": "python",
   "nbconvert_exporter": "python",
   "pygments_lexer": "ipython3",
   "version": "3.9.7"
  },
  "toc": {
   "base_numbering": 1,
   "nav_menu": {},
   "number_sections": true,
   "sideBar": true,
   "skip_h1_title": true,
   "title_cell": "Содержание",
   "title_sidebar": "Contents",
   "toc_cell": true,
   "toc_position": {
    "height": "calc(100% - 180px)",
    "left": "10px",
    "top": "150px",
    "width": "165px"
   },
   "toc_section_display": true,
   "toc_window_display": true
  },
  "widgets": {
   "application/vnd.jupyter.widget-state+json": {
    "state": {},
    "version_major": 2,
    "version_minor": 0
   }
  }
 },
 "nbformat": 4,
 "nbformat_minor": 2
}
